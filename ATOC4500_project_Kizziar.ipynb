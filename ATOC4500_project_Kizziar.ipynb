{
  "nbformat": 4,
  "nbformat_minor": 0,
  "metadata": {
    "colab": {
      "name": "ATOC4500_project_Kizziar.ipynb",
      "provenance": [],
      "collapsed_sections": []
    },
    "kernelspec": {
      "name": "python3",
      "display_name": "Python 3"
    },
    "language_info": {
      "name": "python"
    }
  },
  "cells": [
    {
      "cell_type": "markdown",
      "source": [
        "###**ATOC4500 Data Science Lab: Final Project**\n",
        "###**Title of Your Project**\n",
        "###Author: Ben Kizziar, beki4333@colorado.edu###\n",
        "###last updated: March 21, 2022###\n",
        "\n",
        "**>>>> This code is available on github at (insert URL)**\n",
        "\n",
        "**>>>> NOTE: Please run this and other notebooks using a Chrome browser**"
      ],
      "metadata": {
        "id": "PZq8RkP9cfbx"
      }
    },
    {
      "cell_type": "markdown",
      "source": [
        "###**Introduction:** Write your text here.  Include a hypothesis and underlying motivation.\n",
        "\n"
      ],
      "metadata": {
        "id": "6_rTpdWQcwSG"
      }
    },
    {
      "cell_type": "markdown",
      "source": [
        "My hypothesis is that the December El Nino 3.4 anomalies affect the total winter snow accumulation in Loveland, Colorado. I hope to learn about what the connection is between the sea surface temperature anomalies driven by ENSO and the snow water equivalent levels in Loveland, Colorado. I expect that during El Nino anomalies, the snowfall is larger than average and during La Nina anomalies the snowfall is less than average. "
      ],
      "metadata": {
        "id": "KGE6gF_lBLhL"
      }
    },
    {
      "cell_type": "markdown",
      "source": [
        "**Citations**"
      ],
      "metadata": {
        "id": "sVm1alW4KMZY"
      }
    },
    {
      "cell_type": "markdown",
      "source": [
        "Anon (n.d.), Nino SST indices (Nino 1+2, 3, 3.4, 4; Oni and TNI), Nino SST Indices (Nino 1+2, 3, 3.4, 4; ONI and TNI) | NCAR - Climate Data Guide. Available from: https://climatedataguide.ucar.edu/climate-data/nino-sst-indices-nino-12-3-34-4-oni-and-tni (Accessed 27 April 2022) \n",
        "\n",
        "\n",
        "Anon (n.d.), T table - san jose State University, Available from: https://www.sjsu.edu/faculty/gerstman/StatPrimer/t-table.pdf (Accessed 27 April 2022) \n",
        "\n",
        "\n",
        "Barnes (n.d.), BARNES_ch1_basic_statistics.pdf \n",
        "\n",
        "\n",
        "Zach (2020), How to perform Welch's T-test in python, Statology. Available from: https://www.statology.org/welch-t-test-python/ (Accessed 27 April 2022) "
      ],
      "metadata": {
        "id": "Dv_EhsVbKRBY"
      }
    },
    {
      "cell_type": "markdown",
      "source": [
        "###**Step 1: Read in data**\n",
        "\n"
      ],
      "metadata": {
        "id": "dSbDDXeFc9j8"
      }
    },
    {
      "cell_type": "markdown",
      "source": [
        "The dataset I am using is the snow_enso_data.csv. The variables I have in my data are the El Nino 3.4 anomaly values and the snow water equivalence measurements from Loveland Pass, Colorado. The data covers the time period from 1936 to 2016. The timestep is yearly. The size of my data is 1274 bytes. The data has been munged as the variables of the anomaly and snow water equivalence have been put on the same dataset and measured in the same timstep. There has also been quality control on the data as it was pre evaluated by the professor. There is no missing data in this dataset.\n",
        "The El Nino 3.4 anomaly refers to the measure of the sea surface temperature (SST) anomaly in December which is driven by El Nino Southern Oscillation (degrees celsius). The snow water equivalence (SWE) is a measure of the amount of water in a snowpack (inches). This value is measured in Loveland Pass, Colorado the following April. El Nino conditions are said to be occurring when the anomaly is 0.4 degrees celsius or more above the average and La Nina conditions are said to be occurring when the anomaly is 0.4 degrees celsius or more under the average. The higher the anomaly value, the stronger the conditions of the respective event are. \n"
      ],
      "metadata": {
        "id": "joef8gblBV-c"
      }
    },
    {
      "cell_type": "code",
      "source": [
        "## add code cells here to read in your data"
      ],
      "metadata": {
        "id": "uOliUhKEdOK8"
      },
      "execution_count": 183,
      "outputs": []
    },
    {
      "cell_type": "code",
      "source": [
        "### import packages\n",
        "import pandas as pd\n",
        "import numpy as np\n",
        "import datetime\n",
        "import time\n",
        "import matplotlib.pyplot as plt\n",
        "import matplotlib.dates as mdates\n",
        "from dateutil import relativedelta\n",
        "import csv\n",
        "from scipy import stats\n",
        "from matplotlib import rcParams\n",
        "from sklearn import linear_model\n",
        "from sklearn import metrics\n",
        "from google.colab import files"
      ],
      "metadata": {
        "id": "VEItDf-3BhqV"
      },
      "execution_count": 184,
      "outputs": []
    },
    {
      "cell_type": "code",
      "source": [
        "# function to standardize data, we'll steal this function from a previous notebook used in this class.\n",
        "# recall that standardize the data = remove the mean, divide by the standard deviation.  \n",
        "def standardize(raw_data):\n",
        "    sample_mean = np.mean(raw_data)\n",
        "    sample_std = np.std(raw_data)\n",
        "    standardized_list = []\n",
        "    for i in raw_data:\n",
        "        standardized_list.append((i - sample_mean)/sample_std)\n",
        "    return standardized_list"
      ],
      "metadata": {
        "id": "Rwp53rs3BhyH"
      },
      "execution_count": 185,
      "outputs": []
    },
    {
      "cell_type": "code",
      "source": [
        "### upload file snow_enso_data.csv\n",
        "uploaded = files.upload()\n",
        "\n",
        "for fn in uploaded.keys():\n",
        "  print('User uploaded file \"{name}\" with length {length} bytes'.format(\n",
        "      name=fn, length=len(uploaded[fn])))#"
      ],
      "metadata": {
        "colab": {
          "resources": {
            "http://localhost:8080/nbextensions/google.colab/files.js": {
              "data": "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",
              "ok": true,
              "headers": [
                [
                  "content-type",
                  "application/javascript"
                ]
              ],
              "status": 200,
              "status_text": ""
            }
          },
          "base_uri": "https://localhost:8080/",
          "height": 91
        },
        "id": "m1-nQQxgBh9G",
        "outputId": "8f127fa1-3d00-4be8-b6b2-beec762cdb16"
      },
      "execution_count": 186,
      "outputs": [
        {
          "output_type": "display_data",
          "data": {
            "text/plain": [
              "<IPython.core.display.HTML object>"
            ],
            "text/html": [
              "\n",
              "     <input type=\"file\" id=\"files-25884605-176b-48e3-a013-2e0fff5712bd\" name=\"files[]\" multiple disabled\n",
              "        style=\"border:none\" />\n",
              "     <output id=\"result-25884605-176b-48e3-a013-2e0fff5712bd\">\n",
              "      Upload widget is only available when the cell has been executed in the\n",
              "      current browser session. Please rerun this cell to enable.\n",
              "      </output>\n",
              "      <script src=\"/nbextensions/google.colab/files.js\"></script> "
            ]
          },
          "metadata": {}
        },
        {
          "output_type": "stream",
          "name": "stdout",
          "text": [
            "Saving snow_enso_data.csv to snow_enso_data (4).csv\n",
            "User uploaded file \"snow_enso_data.csv\" with length 1274 bytes\n"
          ]
        }
      ]
    },
    {
      "cell_type": "code",
      "source": [
        "## Read in the data\n",
        "data = pd.read_csv(\"snow_enso_data.csv\")"
      ],
      "metadata": {
        "id": "cjfVKo2BBuJ6"
      },
      "execution_count": 187,
      "outputs": []
    },
    {
      "cell_type": "code",
      "source": [
        "# Look at your data by printing it\n",
        "# preview data (also through data.head() & data.tail())\n",
        "print(data.head())\n",
        "print(data.tail())\n",
        "\n",
        "year=data['Year']\n",
        "#print(day.head())\n",
        "#print(day.tail())\n",
        "data"
      ],
      "metadata": {
        "colab": {
          "base_uri": "https://localhost:8080/",
          "height": 632
        },
        "id": "Euh2Gh_WBuMZ",
        "outputId": "d5346333-13b7-43b8-b52f-f5e30a4451ba"
      },
      "execution_count": 188,
      "outputs": [
        {
          "output_type": "stream",
          "name": "stdout",
          "text": [
            "   Year  LovelandPass_April1SWE_inches  Nino34_anomaly_prevDec\n",
            "0  1936                           15.8                   -0.04\n",
            "1  1937                           10.1                    0.63\n",
            "2  1938                           12.1                    0.22\n",
            "3  1939                           18.2                   -0.79\n",
            "4  1940                           10.0                    0.05\n",
            "    Year  LovelandPass_April1SWE_inches  Nino34_anomaly_prevDec\n",
            "76  2012                           12.8                   -1.05\n",
            "77  2013                           14.9                   -0.13\n",
            "78  2014                           24.4                   -0.09\n",
            "79  2015                           16.4                    0.77\n",
            "80  2016                           19.0                    2.56\n"
          ]
        },
        {
          "output_type": "execute_result",
          "data": {
            "text/plain": [
              "    Year  LovelandPass_April1SWE_inches  Nino34_anomaly_prevDec\n",
              "0   1936                           15.8                   -0.04\n",
              "1   1937                           10.1                    0.63\n",
              "2   1938                           12.1                    0.22\n",
              "3   1939                           18.2                   -0.79\n",
              "4   1940                           10.0                    0.05\n",
              "..   ...                            ...                     ...\n",
              "76  2012                           12.8                   -1.05\n",
              "77  2013                           14.9                   -0.13\n",
              "78  2014                           24.4                   -0.09\n",
              "79  2015                           16.4                    0.77\n",
              "80  2016                           19.0                    2.56\n",
              "\n",
              "[81 rows x 3 columns]"
            ],
            "text/html": [
              "\n",
              "  <div id=\"df-e01e1983-0fec-4d36-b3b0-1616165cdd81\">\n",
              "    <div class=\"colab-df-container\">\n",
              "      <div>\n",
              "<style scoped>\n",
              "    .dataframe tbody tr th:only-of-type {\n",
              "        vertical-align: middle;\n",
              "    }\n",
              "\n",
              "    .dataframe tbody tr th {\n",
              "        vertical-align: top;\n",
              "    }\n",
              "\n",
              "    .dataframe thead th {\n",
              "        text-align: right;\n",
              "    }\n",
              "</style>\n",
              "<table border=\"1\" class=\"dataframe\">\n",
              "  <thead>\n",
              "    <tr style=\"text-align: right;\">\n",
              "      <th></th>\n",
              "      <th>Year</th>\n",
              "      <th>LovelandPass_April1SWE_inches</th>\n",
              "      <th>Nino34_anomaly_prevDec</th>\n",
              "    </tr>\n",
              "  </thead>\n",
              "  <tbody>\n",
              "    <tr>\n",
              "      <th>0</th>\n",
              "      <td>1936</td>\n",
              "      <td>15.8</td>\n",
              "      <td>-0.04</td>\n",
              "    </tr>\n",
              "    <tr>\n",
              "      <th>1</th>\n",
              "      <td>1937</td>\n",
              "      <td>10.1</td>\n",
              "      <td>0.63</td>\n",
              "    </tr>\n",
              "    <tr>\n",
              "      <th>2</th>\n",
              "      <td>1938</td>\n",
              "      <td>12.1</td>\n",
              "      <td>0.22</td>\n",
              "    </tr>\n",
              "    <tr>\n",
              "      <th>3</th>\n",
              "      <td>1939</td>\n",
              "      <td>18.2</td>\n",
              "      <td>-0.79</td>\n",
              "    </tr>\n",
              "    <tr>\n",
              "      <th>4</th>\n",
              "      <td>1940</td>\n",
              "      <td>10.0</td>\n",
              "      <td>0.05</td>\n",
              "    </tr>\n",
              "    <tr>\n",
              "      <th>...</th>\n",
              "      <td>...</td>\n",
              "      <td>...</td>\n",
              "      <td>...</td>\n",
              "    </tr>\n",
              "    <tr>\n",
              "      <th>76</th>\n",
              "      <td>2012</td>\n",
              "      <td>12.8</td>\n",
              "      <td>-1.05</td>\n",
              "    </tr>\n",
              "    <tr>\n",
              "      <th>77</th>\n",
              "      <td>2013</td>\n",
              "      <td>14.9</td>\n",
              "      <td>-0.13</td>\n",
              "    </tr>\n",
              "    <tr>\n",
              "      <th>78</th>\n",
              "      <td>2014</td>\n",
              "      <td>24.4</td>\n",
              "      <td>-0.09</td>\n",
              "    </tr>\n",
              "    <tr>\n",
              "      <th>79</th>\n",
              "      <td>2015</td>\n",
              "      <td>16.4</td>\n",
              "      <td>0.77</td>\n",
              "    </tr>\n",
              "    <tr>\n",
              "      <th>80</th>\n",
              "      <td>2016</td>\n",
              "      <td>19.0</td>\n",
              "      <td>2.56</td>\n",
              "    </tr>\n",
              "  </tbody>\n",
              "</table>\n",
              "<p>81 rows × 3 columns</p>\n",
              "</div>\n",
              "      <button class=\"colab-df-convert\" onclick=\"convertToInteractive('df-e01e1983-0fec-4d36-b3b0-1616165cdd81')\"\n",
              "              title=\"Convert this dataframe to an interactive table.\"\n",
              "              style=\"display:none;\">\n",
              "        \n",
              "  <svg xmlns=\"http://www.w3.org/2000/svg\" height=\"24px\"viewBox=\"0 0 24 24\"\n",
              "       width=\"24px\">\n",
              "    <path d=\"M0 0h24v24H0V0z\" fill=\"none\"/>\n",
              "    <path d=\"M18.56 5.44l.94 2.06.94-2.06 2.06-.94-2.06-.94-.94-2.06-.94 2.06-2.06.94zm-11 1L8.5 8.5l.94-2.06 2.06-.94-2.06-.94L8.5 2.5l-.94 2.06-2.06.94zm10 10l.94 2.06.94-2.06 2.06-.94-2.06-.94-.94-2.06-.94 2.06-2.06.94z\"/><path d=\"M17.41 7.96l-1.37-1.37c-.4-.4-.92-.59-1.43-.59-.52 0-1.04.2-1.43.59L10.3 9.45l-7.72 7.72c-.78.78-.78 2.05 0 2.83L4 21.41c.39.39.9.59 1.41.59.51 0 1.02-.2 1.41-.59l7.78-7.78 2.81-2.81c.8-.78.8-2.07 0-2.86zM5.41 20L4 18.59l7.72-7.72 1.47 1.35L5.41 20z\"/>\n",
              "  </svg>\n",
              "      </button>\n",
              "      \n",
              "  <style>\n",
              "    .colab-df-container {\n",
              "      display:flex;\n",
              "      flex-wrap:wrap;\n",
              "      gap: 12px;\n",
              "    }\n",
              "\n",
              "    .colab-df-convert {\n",
              "      background-color: #E8F0FE;\n",
              "      border: none;\n",
              "      border-radius: 50%;\n",
              "      cursor: pointer;\n",
              "      display: none;\n",
              "      fill: #1967D2;\n",
              "      height: 32px;\n",
              "      padding: 0 0 0 0;\n",
              "      width: 32px;\n",
              "    }\n",
              "\n",
              "    .colab-df-convert:hover {\n",
              "      background-color: #E2EBFA;\n",
              "      box-shadow: 0px 1px 2px rgba(60, 64, 67, 0.3), 0px 1px 3px 1px rgba(60, 64, 67, 0.15);\n",
              "      fill: #174EA6;\n",
              "    }\n",
              "\n",
              "    [theme=dark] .colab-df-convert {\n",
              "      background-color: #3B4455;\n",
              "      fill: #D2E3FC;\n",
              "    }\n",
              "\n",
              "    [theme=dark] .colab-df-convert:hover {\n",
              "      background-color: #434B5C;\n",
              "      box-shadow: 0px 1px 3px 1px rgba(0, 0, 0, 0.15);\n",
              "      filter: drop-shadow(0px 1px 2px rgba(0, 0, 0, 0.3));\n",
              "      fill: #FFFFFF;\n",
              "    }\n",
              "  </style>\n",
              "\n",
              "      <script>\n",
              "        const buttonEl =\n",
              "          document.querySelector('#df-e01e1983-0fec-4d36-b3b0-1616165cdd81 button.colab-df-convert');\n",
              "        buttonEl.style.display =\n",
              "          google.colab.kernel.accessAllowed ? 'block' : 'none';\n",
              "\n",
              "        async function convertToInteractive(key) {\n",
              "          const element = document.querySelector('#df-e01e1983-0fec-4d36-b3b0-1616165cdd81');\n",
              "          const dataTable =\n",
              "            await google.colab.kernel.invokeFunction('convertToInteractive',\n",
              "                                                     [key], {});\n",
              "          if (!dataTable) return;\n",
              "\n",
              "          const docLinkHtml = 'Like what you see? Visit the ' +\n",
              "            '<a target=\"_blank\" href=https://colab.research.google.com/notebooks/data_table.ipynb>data table notebook</a>'\n",
              "            + ' to learn more about interactive tables.';\n",
              "          element.innerHTML = '';\n",
              "          dataTable['output_type'] = 'display_data';\n",
              "          await google.colab.output.renderOutput(dataTable, element);\n",
              "          const docLink = document.createElement('div');\n",
              "          docLink.innerHTML = docLinkHtml;\n",
              "          element.appendChild(docLink);\n",
              "        }\n",
              "      </script>\n",
              "    </div>\n",
              "  </div>\n",
              "  "
            ]
          },
          "metadata": {},
          "execution_count": 188
        }
      ]
    },
    {
      "cell_type": "code",
      "source": [
        "April_SWE=data['LovelandPass_April1SWE_inches']\n",
        "Nino34_anom=data['Nino34_anomaly_prevDec']"
      ],
      "metadata": {
        "id": "1bmMrzTVCAGU"
      },
      "execution_count": 189,
      "outputs": []
    },
    {
      "cell_type": "code",
      "source": [
        "fig = plt.figure(figsize=(9,4.5));\n",
        "plt.plot(year, April_SWE, color='steelblue', lw=1.1,label='Snow Water Equivalence (inches)');\n",
        "plt.xlabel(\"Time\",fontsize=12);\n",
        "plt.ylabel(\"Inches\",fontsize=12);\n",
        "plt.legend(loc='upper left',fontsize=11);\n",
        "plt.show()\n",
        "\n",
        "fig = plt.figure(figsize=(9,4.5));\n",
        "plt.plot(year, Nino34_anom, color='steelblue', lw=1.1,label='Nino 3.4 anomaly');\n",
        "plt.xlabel(\"Time\",fontsize=12);\n",
        "plt.ylabel(\"Celsius\",fontsize=12);\n",
        "plt.legend(loc='upper left',fontsize=11);\n",
        "plt.show()"
      ],
      "metadata": {
        "colab": {
          "base_uri": "https://localhost:8080/",
          "height": 603
        },
        "id": "y3hJizTBCAJ4",
        "outputId": "2d22d985-1796-4c4e-89d2-324974287368"
      },
      "execution_count": 217,
      "outputs": [
        {
          "output_type": "display_data",
          "data": {
            "text/plain": [
              "<Figure size 648x324 with 1 Axes>"
            ],
            "image/png": "[encoded data removed]"
          },
          "metadata": {
            "needs_background": "light"
          }
        },
        {
          "output_type": "display_data",
          "data": {
            "text/plain": [
              "<Figure size 648x324 with 1 Axes>"
            ],
            "image/png": "[encoded data removed]"
          },
          "metadata": {
            "needs_background": "light"
          }
        }
      ]
    },
    {
      "cell_type": "markdown",
      "source": [
        "###**Step 2: Munge data**"
      ],
      "metadata": {
        "id": "FvP4Qge7dI9a"
      }
    },
    {
      "cell_type": "markdown",
      "source": [
        "include description of all data processing steps here"
      ],
      "metadata": {
        "id": "Eb5MWdRfdmlA"
      }
    },
    {
      "cell_type": "code",
      "source": [
        "elninoyrs = data.loc[data['Nino34_anomaly_prevDec'] > 1]\n",
        "print(elninoyrs)\n",
        "\n",
        "April_SWE_elnino=elninoyrs['LovelandPass_April1SWE_inches']\n",
        "\n",
        "N1=len(elninoyrs)\n",
        "sigma1=np.std(April_SWE_elnino)  ## calculate the standard deviation\n",
        "mean=np.mean(April_SWE_elnino)  ## calculate the mean\n",
        "print('Sample Size N=',N1)\n",
        "print('Mean',round(mean,1))\n",
        "print('Standard Deviation',round(sigma1,1))\n"
      ],
      "metadata": {
        "colab": {
          "base_uri": "https://localhost:8080/"
        },
        "id": "S-n3Btg66k56",
        "outputId": "a9354226-21ba-4d88-90cd-fe6b88173f23"
      },
      "execution_count": 191,
      "outputs": [
        {
          "output_type": "stream",
          "name": "stdout",
          "text": [
            "    Year  LovelandPass_April1SWE_inches  Nino34_anomaly_prevDec\n",
            "5   1941                            9.9                    1.39\n",
            "6   1942                           13.9                    1.27\n",
            "22  1958                           14.9                    1.18\n",
            "28  1964                           12.7                    1.05\n",
            "30  1966                            6.3                    1.45\n",
            "37  1973                           12.0                    2.19\n",
            "42  1978                           22.1                    1.09\n",
            "47  1983                           15.5                    2.33\n",
            "52  1988                           15.9                    1.05\n",
            "56  1992                           14.2                    1.62\n",
            "59  1995                           17.2                    1.21\n",
            "62  1998                           17.2                    2.30\n",
            "67  2003                           19.9                    1.41\n",
            "71  2007                           19.7                    1.10\n",
            "74  2010                           14.3                    1.81\n",
            "80  2016                           19.0                    2.56\n",
            "Sample Size N= 16\n",
            "Mean 15.3\n",
            "Standard Deviation 3.9\n"
          ]
        }
      ]
    },
    {
      "cell_type": "code",
      "source": [
        "laninayrs = data.loc[data['Nino34_anomaly_prevDec'] < -1]\n",
        "print(laninayrs)\n",
        "\n",
        "April_SWE_lanina=laninayrs['LovelandPass_April1SWE_inches']\n",
        "\n",
        "N2=len(laninayrs)\n",
        "sigma2=np.std(April_SWE_lanina)  ## calculate the standard deviation\n",
        "mean=np.mean(April_SWE_lanina)  ## calculate the mean\n",
        "print('Sample Size N=',N2)\n",
        "print('Mean',round(mean,1))\n",
        "print('Standard Deviation',round(sigma2,1))\n",
        "\n",
        "#Nino34_anomaly_prevDec = \n"
      ],
      "metadata": {
        "colab": {
          "base_uri": "https://localhost:8080/"
        },
        "id": "4rahFQM-9xSH",
        "outputId": "450ce8a5-5c8e-4592-8d91-073ee59e8577"
      },
      "execution_count": 192,
      "outputs": [
        {
          "output_type": "stream",
          "name": "stdout",
          "text": [
            "    Year  LovelandPass_April1SWE_inches  Nino34_anomaly_prevDec\n",
            "7   1943                           17.9                   -1.24\n",
            "14  1950                           14.0                   -1.20\n",
            "15  1951                           19.0                   -1.04\n",
            "20  1956                           21.2                   -1.52\n",
            "29  1965                           19.9                   -1.07\n",
            "35  1971                           19.0                   -1.11\n",
            "38  1974                           18.8                   -2.18\n",
            "40  1976                           15.1                   -1.64\n",
            "49  1985                           12.3                   -1.53\n",
            "53  1989                           12.1                   -1.98\n",
            "63  1999                           16.5                   -1.51\n",
            "64  2000                           19.6                   -1.54\n",
            "72  2008                           21.2                   -1.61\n",
            "75  2011                           27.3                   -1.63\n",
            "76  2012                           12.8                   -1.05\n",
            "Sample Size N= 15\n",
            "Mean 17.8\n",
            "Standard Deviation 4.0\n"
          ]
        }
      ]
    },
    {
      "cell_type": "code",
      "source": [
        "## add code cells here to process your data to prepare it for the data science method, i.e. \"munge\" it"
      ],
      "metadata": {
        "id": "kA5-4Su5cuwu"
      },
      "execution_count": 193,
      "outputs": []
    },
    {
      "cell_type": "code",
      "source": [
        "var1= April_SWE   ### EDIT right-hand side of = statement to select var1\n",
        "var2= Nino34_anom ### EDIT right-hand side of = statement to select var2\n",
        "\n",
        "### calculate the mean and standard deviation of your data variables (var1, var2)\n",
        "### print the values\n",
        "N=len(data)\n",
        "sigma=np.std(var1)  ## calculate the standard deviation\n",
        "mean=np.mean(var1)  ## calculate the mean\n",
        "print('Sample Size N=',N)\n",
        "print('Mean',round(mean,1))\n",
        "print('Standard Deviation',round(sigma,1))\n",
        "\n",
        "N=len(data)\n",
        "sigma=np.std(var2)  ## calculate the standard deviation\n",
        "mean=np.mean(var2)  ## calculate the mean\n",
        "print('Sample Size N=',N)\n",
        "print('Mean',round(mean,1))\n",
        "print('Standard Deviation',round(sigma,1))"
      ],
      "metadata": {
        "colab": {
          "base_uri": "https://localhost:8080/"
        },
        "id": "mbuZR3Lg_l_1",
        "outputId": "25261145-623e-4422-d942-cc7e24f498e1"
      },
      "execution_count": 194,
      "outputs": [
        {
          "output_type": "stream",
          "name": "stdout",
          "text": [
            "Sample Size N= 81\n",
            "Mean 16.3\n",
            "Standard Deviation 4.2\n",
            "Sample Size N= 81\n",
            "Mean -0.0\n",
            "Standard Deviation 1.1\n"
          ]
        }
      ]
    },
    {
      "cell_type": "code",
      "source": [
        "## standardize the data (i.e., remove the mean, divide by the standard deviation)\n",
        "var1_stand = standardize(var1)\n",
        "var2_stand = standardize(var2)\n",
        "\n",
        "## check that your data have a mean of 0 and a standard deviation of 1\n",
        "print(f'mean var1: {np.round(np.mean(var1_stand),1)}')\n",
        "print(f'mean var2: {np.round(np.mean(var2_stand),1)}')\n",
        "print(f'std  var1: {np.round(np.std(var1_stand),1)}')\n",
        "print(f'std  var2: {np.round(np.std(var2_stand),1)}')"
      ],
      "metadata": {
        "colab": {
          "base_uri": "https://localhost:8080/"
        },
        "id": "Hr7xlK0P_8RL",
        "outputId": "6a8b6c4b-f40c-48e3-a1cd-7f108304cb91"
      },
      "execution_count": 195,
      "outputs": [
        {
          "output_type": "stream",
          "name": "stdout",
          "text": [
            "mean var1: -0.0\n",
            "mean var2: 0.0\n",
            "std  var1: 1.0\n",
            "std  var2: 1.0\n"
          ]
        }
      ]
    },
    {
      "cell_type": "code",
      "source": [
        "## Make a histogram plot of standardized values - var1\n",
        "## define bins\n",
        "delta=0.5                            ## bin size\n",
        "minbin=-4                      ## minimum bin value\n",
        "maxbin= 5                 ## maximum bin value\n",
        "hist_bins = np.arange(minbin,maxbin,delta) ## bins\n",
        "## plot histogram\n",
        "fig = plt.figure(figsize=(9,4.5));\n",
        "plt.hist(Nino34_anom,bins=hist_bins,facecolor='k',edgecolor=\"k\");\n",
        "plt.title('Nino 3.4 Anomaly');"
      ],
      "metadata": {
        "colab": {
          "base_uri": "https://localhost:8080/",
          "height": 309
        },
        "id": "39fCDAgZA_rv",
        "outputId": "38baee84-def4-4843-de10-7bad1992ca60"
      },
      "execution_count": 200,
      "outputs": [
        {
          "output_type": "display_data",
          "data": {
            "text/plain": [
              "<Figure size 648x324 with 1 Axes>"
            ],
            "image/png": "[encoded data removed]"
          },
          "metadata": {
            "needs_background": "light"
          }
        }
      ]
    },
    {
      "cell_type": "code",
      "source": [
        "## Make a histogram plot of standardized values - var1\n",
        "## define bins\n",
        "delta=0.5                            ## bin size\n",
        "minbin=0                       ## minimum bin value\n",
        "maxbin=30                    ## maximum bin value\n",
        "hist_bins = np.arange(minbin,maxbin,delta) ## bins\n",
        "## plot histogram\n",
        "fig = plt.figure(figsize=(9,4.5));\n",
        "plt.hist(April_SWE,bins=hist_bins,facecolor='k',edgecolor=\"k\");\n",
        "plt.title('April SWE');"
      ],
      "metadata": {
        "colab": {
          "base_uri": "https://localhost:8080/",
          "height": 309
        },
        "id": "uekecHhPBkfl",
        "outputId": "b45daf2d-edef-44e8-d21b-c70a72672a42"
      },
      "execution_count": 201,
      "outputs": [
        {
          "output_type": "display_data",
          "data": {
            "text/plain": [
              "<Figure size 648x324 with 1 Axes>"
            ],
            "image/png": "[encoded data removed]"
          },
          "metadata": {
            "needs_background": "light"
          }
        }
      ]
    },
    {
      "cell_type": "markdown",
      "source": [
        "###**Step 3: Apply Data Science Method(s)**"
      ],
      "metadata": {
        "id": "z38-ucl_dbBH"
      }
    },
    {
      "cell_type": "markdown",
      "source": [
        "include description of step 3 here, include assumptions\n",
        "\n",
        "My application of data science methods will be running a 95% confidence interval T-test to determine whether or not there is a statistical different in snowpack levels in El Nino years vs La Nina years. This specific test comparing two means of two differnt data sets is called the Welch's T-test. \n",
        "\n",
        "I follow the 5-step hypothesis testing approach. \n",
        "\n",
        "In a Welch's T-test you have to find a t statistic using an equation given as well as a sigma value using another equation. These are shown below.\n",
        "\n",
        "![Screenshot 2022-04-27 153352.png](data:image/png;base64,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)\n",
        "\n",
        "I first found the value of sigma and then using the results of that value, I used it to find the t-statistic. Then I compare the t-statistic to the critical t-value found using a 95% confidence interval and the degrees of freedom of N1 + N2 - 2 and from here claim the results of the hypothesis test. \n",
        "\n",
        "I test the sensitivity of the test by changing my definition of an El Nino/La Nina event from something being over 1 degree different than the average to over 0.5 degrees different than the average. \n",
        "\n",
        "At the end I have of each test I have code that dsiplays the t statistic and p-value a way to check my code. \n",
        "\n"
      ],
      "metadata": {
        "id": "D6gk_HMzdh78"
      }
    },
    {
      "cell_type": "code",
      "source": [
        "## add code cells here to apply your data science method"
      ],
      "metadata": {
        "id": "8N0qMrPcdWMv"
      },
      "execution_count": 202,
      "outputs": []
    },
    {
      "cell_type": "markdown",
      "source": [
        "\n",
        "\n",
        "1.   **State the sigificance level:** 95%, alpha = 0.05\n",
        "2.   **State the null hypothesis (H0):** El Nino years and La Nina years have different means.\n",
        "   \n",
        "3.   **State the statistic to be used, and the assumptions:** \n",
        "The Welch's T-Test\n",
        "4.    **State the critical region:** \n",
        "Results will be consistent with the null hypothesis if the p-value is greater than 0.05 or t value is less than critcical t value of 2.045.\n",
        "5.    **Evaluate the statistic and state the conclusion (provide code below)**"
      ],
      "metadata": {
        "id": "dJB0qJxv6Dqo"
      }
    },
    {
      "cell_type": "code",
      "source": [
        "print(np.var(April_SWE_elnino), np.var(April_SWE_lanina))\n",
        "\n",
        "\n",
        "\n",
        "#print(stats.ttest_ind(April_SWE_elnino, April_SWE_lanina, equal_var = False))\n",
        "\n",
        "print(stats.ttest_ind(April_SWE_lanina, April_SWE_elnino, equal_var = False))\n"
      ],
      "metadata": {
        "colab": {
          "base_uri": "https://localhost:8080/"
        },
        "id": "nr3fafiQSfeb",
        "outputId": "f73e302f-5c73-4466-e188-42dcc3656b3d"
      },
      "execution_count": 203,
      "outputs": [
        {
          "output_type": "stream",
          "name": "stdout",
          "text": [
            "15.013085937499996 15.737600000000002\n",
            "Ttest_indResult(statistic=1.7055587740514027, pvalue=0.09887219450337625)\n"
          ]
        }
      ]
    },
    {
      "cell_type": "code",
      "source": [
        "\n",
        "def welch_ttest(elninodata,laninadata):\n",
        "  N1 = len(elninodata)\n",
        "  #print(N1)\n",
        "  N2 = len(laninadata)\n",
        "  #print(N2)\n",
        "  sigma1 = np.std(elninodata)\n",
        "  #print(sigma1)\n",
        "  sigma2 = np.std(laninadata)\n",
        "  #print(sigma2)\n",
        "  SIGMA = np.sqrt((N1*sigma1**2 + N2*sigma2**2)/(N1 + N2 - 2))\n",
        "  return SIGMA\n"
      ],
      "metadata": {
        "id": "mi2ya98X5WTT"
      },
      "execution_count": 204,
      "outputs": []
    },
    {
      "cell_type": "code",
      "source": [
        "sigmatest = welch_ttest(elninodata=elninoyrs['LovelandPass_April1SWE_inches'],laninadata=laninayrs['LovelandPass_April1SWE_inches'])\n",
        "print(sigmatest)"
      ],
      "metadata": {
        "colab": {
          "base_uri": "https://localhost:8080/"
        },
        "id": "4H6MybbjCHbd",
        "outputId": "8ecfef8e-1ce7-42a0-c9c2-ed02497e348f"
      },
      "execution_count": 205,
      "outputs": [
        {
          "output_type": "stream",
          "name": "stdout",
          "text": [
            "4.052557196090661\n"
          ]
        }
      ]
    },
    {
      "cell_type": "code",
      "source": [
        "def twelch_ttest(elninodata,laninadata):\n",
        "  N1 = len(elninodata)\n",
        "  N2 = len(laninadata)\n",
        "  mean1 = np.mean(April_SWE_lanina)\n",
        "  #print(mean1)\n",
        "  mean2 = np.mean(April_SWE_elnino)\n",
        "  #print(mean2)\n",
        "  sigmatest = welch_ttest(elninodata=elninoyrs['LovelandPass_April1SWE_inches'],laninadata=laninayrs['LovelandPass_April1SWE_inches'])\n",
        "  t = ((mean1 - mean2 - 0)/(sigmatest*(np.sqrt(N1**-1 + N2**-1))))\n",
        "  return t\n"
      ],
      "metadata": {
        "id": "w-R4nnqkFhWC"
      },
      "execution_count": 206,
      "outputs": []
    },
    {
      "cell_type": "code",
      "source": [
        "ttest = twelch_ttest(elninodata=elninoyrs['LovelandPass_April1SWE_inches'],laninadata=laninayrs['LovelandPass_April1SWE_inches'])\n",
        "print(ttest)"
      ],
      "metadata": {
        "colab": {
          "base_uri": "https://localhost:8080/"
        },
        "id": "E5xt_7VgG1u9",
        "outputId": "a7c930db-047e-48f2-b9eb-a176ad22068d"
      },
      "execution_count": 207,
      "outputs": [
        {
          "output_type": "stream",
          "name": "stdout",
          "text": [
            "1.707027104805739\n"
          ]
        }
      ]
    },
    {
      "cell_type": "code",
      "source": [
        "print(np.var(April_SWE_elnino), np.var(April_SWE_lanina))\n",
        "\n",
        "\n",
        "\n",
        "#print(stats.ttest_ind(April_SWE_elnino, April_SWE_lanina, equal_var = False))\n",
        "\n",
        "print(stats.ttest_ind(April_SWE_lanina, April_SWE_elnino, equal_var = False))"
      ],
      "metadata": {
        "colab": {
          "base_uri": "https://localhost:8080/"
        },
        "id": "xKzPC8Cy-1d3",
        "outputId": "7efaaf86-e78d-4b04-8b8b-bd9aac14ebc4"
      },
      "execution_count": 208,
      "outputs": [
        {
          "output_type": "stream",
          "name": "stdout",
          "text": [
            "15.013085937499996 15.737600000000002\n",
            "Ttest_indResult(statistic=1.7055587740514027, pvalue=0.09887219450337625)\n"
          ]
        }
      ]
    },
    {
      "cell_type": "markdown",
      "source": [
        "Critical t value for this test is 2.045, and the t value I found is 1.707. This is less than the critical t value so I reject the null hypothesis that the two means are different."
      ],
      "metadata": {
        "id": "9xHwTYncJIla"
      }
    },
    {
      "cell_type": "markdown",
      "source": [
        "***Changing Sensitivity***"
      ],
      "metadata": {
        "id": "QGXxeaVONtm0"
      }
    },
    {
      "cell_type": "markdown",
      "source": [
        "Now I will run the same hypothesis but change my definition of an anomaly to be greater than 0.5 degrees celsius for El Nino and less than -0.5 degreses celsius for La Nina."
      ],
      "metadata": {
        "id": "IWRoEoEkKZh6"
      }
    },
    {
      "cell_type": "markdown",
      "source": [
        "\n",
        "\n",
        "1.   **State the sigificance level:** 95%, alpha = 0.05\n",
        "2.   **State the null hypothesis (H0):** El Nino years and La Nina years have different means.\n",
        "   \n",
        "3.   **State the statistic to be used, and the assumptions:** \n",
        "The Welch's T-Test\n",
        "4.    **State the critical region:** \n",
        "Results will be consistent with the null hypothesis if the p-value is greater than 0.05 or t value is less than critcical t value of 2.009.\n",
        "5.    **Evaluate the statistic and state the conclusion (provide code below)**"
      ],
      "metadata": {
        "id": "Rd2h_2Mr2lDW"
      }
    },
    {
      "cell_type": "code",
      "source": [
        "elninoyrs2 = data.loc[data['Nino34_anomaly_prevDec'] >0.5]\n",
        "print(elninoyrs2)\n",
        "\n",
        "April_SWE_elnino2=elninoyrs2['LovelandPass_April1SWE_inches']\n",
        "\n",
        "N1=len(elninoyrs2)\n",
        "sigma1=np.std(April_SWE_elnino2)  ## calculate the standard deviation\n",
        "mean=np.mean(April_SWE_elnino2)  ## calculate the mean\n",
        "print('Sample Size N=',N1)\n",
        "print('Mean',round(mean,1))\n",
        "print('Standard Deviation',round(sigma1,1))"
      ],
      "metadata": {
        "colab": {
          "base_uri": "https://localhost:8080/"
        },
        "id": "llOnx1VtMlSZ",
        "outputId": "570c8d33-8326-43c7-eece-39076cb700ac"
      },
      "execution_count": 209,
      "outputs": [
        {
          "output_type": "stream",
          "name": "stdout",
          "text": [
            "    Year  LovelandPass_April1SWE_inches  Nino34_anomaly_prevDec\n",
            "1   1937                           10.1                    0.63\n",
            "5   1941                            9.9                    1.39\n",
            "6   1942                           13.9                    1.27\n",
            "16  1952                           24.0                    0.71\n",
            "22  1958                           14.9                    1.18\n",
            "28  1964                           12.7                    1.05\n",
            "30  1966                            6.3                    1.45\n",
            "33  1969                           14.2                    0.76\n",
            "34  1970                           20.7                    0.68\n",
            "37  1973                           12.0                    2.19\n",
            "41  1977                           11.0                    0.64\n",
            "42  1978                           22.1                    1.09\n",
            "44  1980                           20.0                    0.69\n",
            "47  1983                           15.5                    2.33\n",
            "51  1987                           11.3                    0.98\n",
            "52  1988                           15.9                    1.05\n",
            "56  1992                           14.2                    1.62\n",
            "59  1995                           17.2                    1.21\n",
            "62  1998                           17.2                    2.30\n",
            "67  2003                           19.9                    1.41\n",
            "69  2005                           15.6                    0.71\n",
            "71  2007                           19.7                    1.10\n",
            "74  2010                           14.3                    1.81\n",
            "79  2015                           16.4                    0.77\n",
            "80  2016                           19.0                    2.56\n",
            "Sample Size N= 25\n",
            "Mean 15.5\n",
            "Standard Deviation 4.1\n"
          ]
        }
      ]
    },
    {
      "cell_type": "code",
      "source": [
        "laninayrs2 = data.loc[data['Nino34_anomaly_prevDec'] < -0.5]\n",
        "print(laninayrs2)\n",
        "\n",
        "April_SWE_lanina2=laninayrs2['LovelandPass_April1SWE_inches']\n",
        "\n",
        "N2=len(laninayrs2)\n",
        "sigma2=np.std(April_SWE_lanina2)  ## calculate the standard deviation\n",
        "mean=np.mean(April_SWE_lanina2)  ## calculate the mean\n",
        "print('Sample Size N=',N2)\n",
        "print('Mean',round(mean,1))\n",
        "print('Standard Deviation',round(sigma2,1))"
      ],
      "metadata": {
        "colab": {
          "base_uri": "https://localhost:8080/"
        },
        "id": "4pdXcdiWMlZG",
        "outputId": "012678a2-edbb-438a-9549-72744ec4166c"
      },
      "execution_count": 210,
      "outputs": [
        {
          "output_type": "stream",
          "name": "stdout",
          "text": [
            "    Year  LovelandPass_April1SWE_inches  Nino34_anomaly_prevDec\n",
            "3   1939                           18.2                   -0.79\n",
            "7   1943                           17.9                   -1.24\n",
            "10  1946                           11.4                   -0.54\n",
            "14  1950                           14.0                   -1.20\n",
            "15  1951                           19.0                   -1.04\n",
            "17  1953                           17.3                   -0.55\n",
            "19  1955                           13.5                   -0.79\n",
            "20  1956                           21.2                   -1.52\n",
            "21  1957                           17.5                   -0.58\n",
            "29  1965                           19.9                   -1.07\n",
            "35  1971                           19.0                   -1.11\n",
            "36  1972                           16.2                   -0.89\n",
            "38  1974                           18.8                   -2.18\n",
            "39  1975                           19.6                   -0.86\n",
            "40  1976                           15.1                   -1.64\n",
            "48  1984                           18.0                   -0.95\n",
            "49  1985                           12.3                   -1.53\n",
            "53  1989                           12.1                   -1.98\n",
            "60  1996                           28.7                   -0.72\n",
            "63  1999                           16.5                   -1.51\n",
            "64  2000                           19.6                   -1.54\n",
            "65  2001                           17.2                   -0.92\n",
            "70  2006                           22.4                   -0.75\n",
            "72  2008                           21.2                   -1.61\n",
            "73  2009                           21.6                   -0.90\n",
            "75  2011                           27.3                   -1.63\n",
            "76  2012                           12.8                   -1.05\n",
            "Sample Size N= 27\n",
            "Mean 18.1\n",
            "Standard Deviation 4.1\n"
          ]
        }
      ]
    },
    {
      "cell_type": "code",
      "source": [
        "var1= April_SWE   ### EDIT right-hand side of = statement to select var1\n",
        "var2= Nino34_anom ### EDIT right-hand side of = statement to select var2\n",
        "\n",
        "### calculate the mean and standard deviation of your data variables (var1, var2)\n",
        "### print the values\n",
        "N=len(data)\n",
        "sigma=np.std(var1)  ## calculate the standard deviation\n",
        "mean=np.mean(var1)  ## calculate the mean\n",
        "print('Sample Size N=',N)\n",
        "print('Mean',round(mean,1))\n",
        "print('Standard Deviation',round(sigma,1))\n",
        "\n",
        "N=len(data)\n",
        "sigma=np.std(var2)  ## calculate the standard deviation\n",
        "mean=np.mean(var2)  ## calculate the mean\n",
        "print('Sample Size N=',N)\n",
        "print('Mean',round(mean,1))\n",
        "print('Standard Deviation',round(sigma,1))"
      ],
      "metadata": {
        "colab": {
          "base_uri": "https://localhost:8080/"
        },
        "id": "drmeAJTvMlb6",
        "outputId": "40488667-e7b6-4739-e6d6-853fd90d557d"
      },
      "execution_count": 211,
      "outputs": [
        {
          "output_type": "stream",
          "name": "stdout",
          "text": [
            "Sample Size N= 81\n",
            "Mean 16.3\n",
            "Standard Deviation 4.2\n",
            "Sample Size N= 81\n",
            "Mean -0.0\n",
            "Standard Deviation 1.1\n"
          ]
        }
      ]
    },
    {
      "cell_type": "code",
      "source": [
        "def welch_ttest(elninodata2,laninadata2):\n",
        "  N1 = len(elninodata2)\n",
        "  #print(N1)\n",
        "  N2 = len(laninadata2)\n",
        "  #print(N2)\n",
        "  sigma1 = np.std(elninodata2)\n",
        "  #print(sigma1)\n",
        "  sigma2 = np.std(laninadata2)\n",
        "  #print(sigma2)\n",
        "  SIGMA = np.sqrt((N1*sigma1**2 + N2*sigma2**2)/(N1 + N2 - 2))\n",
        "  return SIGMA"
      ],
      "metadata": {
        "id": "Ri9xlktbMlhH"
      },
      "execution_count": 212,
      "outputs": []
    },
    {
      "cell_type": "code",
      "source": [
        "sigmatest = welch_ttest(elninodata2=elninoyrs2['LovelandPass_April1SWE_inches'],laninadata2=laninayrs2['LovelandPass_April1SWE_inches'])\n",
        "print(sigmatest)"
      ],
      "metadata": {
        "colab": {
          "base_uri": "https://localhost:8080/"
        },
        "id": "YBCV0JpGMz22",
        "outputId": "a6a7c46a-5eb3-4c80-cb90-c69b35d38908"
      },
      "execution_count": 213,
      "outputs": [
        {
          "output_type": "stream",
          "name": "stdout",
          "text": [
            "4.205743867793363\n"
          ]
        }
      ]
    },
    {
      "cell_type": "code",
      "source": [
        "def twelch_ttest(elninodata2,laninadata2):\n",
        "  N1 = len(elninodata2)\n",
        "  N2 = len(laninadata2)\n",
        "  mean1 = np.mean(April_SWE_lanina2)\n",
        "  #print(mean1)\n",
        "  mean2 = np.mean(April_SWE_elnino2)\n",
        "  #print(mean2)\n",
        "  sigmatest = welch_ttest(elninodata2=elninoyrs2['LovelandPass_April1SWE_inches'],laninadata2=laninayrs2['LovelandPass_April1SWE_inches'])\n",
        "  t = ((mean1 - mean2 - 0)/(sigmatest*(np.sqrt(N1**-1 + N2**-1))))\n",
        "  return t"
      ],
      "metadata": {
        "id": "MZyGmuhTMlj6"
      },
      "execution_count": 214,
      "outputs": []
    },
    {
      "cell_type": "code",
      "source": [
        "ttest = twelch_ttest(elninodata2=elninoyrs2['LovelandPass_April1SWE_inches'],laninadata2=laninayrs2['LovelandPass_April1SWE_inches'])\n",
        "print(ttest)"
      ],
      "metadata": {
        "colab": {
          "base_uri": "https://localhost:8080/"
        },
        "id": "t1FfZm0JMlm2",
        "outputId": "3a30390a-e37a-4916-c98e-aad6fd206685"
      },
      "execution_count": 215,
      "outputs": [
        {
          "output_type": "stream",
          "name": "stdout",
          "text": [
            "2.1974860019152858\n"
          ]
        }
      ]
    },
    {
      "cell_type": "code",
      "source": [
        "print(np.var(April_SWE_elnino2), np.var(April_SWE_lanina2))\n",
        "\n",
        "\n",
        "\n",
        "#print(stats.ttest_ind(April_SWE_elnino, April_SWE_lanina, equal_var = False))\n",
        "\n",
        "print(stats.ttest_ind(April_SWE_lanina2, April_SWE_elnino2, equal_var = False))"
      ],
      "metadata": {
        "id": "zhp4bjWTGCwj",
        "outputId": "9e5a2f13-c26b-436f-b910-7c063428a71e",
        "colab": {
          "base_uri": "https://localhost:8080/"
        }
      },
      "execution_count": 216,
      "outputs": [
        {
          "output_type": "stream",
          "name": "stdout",
          "text": [
            "17.1992 16.830891632373113\n",
            "Ttest_indResult(statistic=2.1964203917686005, pvalue=0.0327658715845448)\n"
          ]
        }
      ]
    },
    {
      "cell_type": "markdown",
      "source": [
        "The critical t value for this 2.009. The t value I found was 2.197. This is greater than the critical t value so I fail to reject the null hypothesis that the two means are different. "
      ],
      "metadata": {
        "id": "hQQ4RDAn19_3"
      }
    },
    {
      "cell_type": "markdown",
      "source": [
        "###**Step 4: Present results visually using 2-3 graphs**"
      ],
      "metadata": {
        "id": "nun4KPZcdtOF"
      }
    },
    {
      "cell_type": "code",
      "source": [
        "## add code cells here to plot the results here"
      ],
      "metadata": {
        "id": "yvBxvUa4dxjs"
      },
      "execution_count": 237,
      "outputs": []
    },
    {
      "cell_type": "code",
      "source": [
        "April_SWE_elnino=elninoyrs['LovelandPass_April1SWE_inches']\n",
        "\n",
        "\n",
        "## define bins\n",
        "delta=0.5                            ## bin size\n",
        "minbin=0                       ## minimum bin value\n",
        "maxbin=30                    ## maximum bin value\n",
        "hist_bins = np.arange(minbin,maxbin,delta) ## bins\n",
        "## plot histogram\n",
        "fig = plt.figure(figsize=(9,4.5));\n",
        "plt.hist(April_SWE_elnino,bins=hist_bins,facecolor='k',edgecolor=\"k\");\n",
        "plt.title('April SWE El Nino years');"
      ],
      "metadata": {
        "id": "2DkiriHj5MSc",
        "colab": {
          "base_uri": "https://localhost:8080/",
          "height": 309
        },
        "outputId": "e82ad57f-5d7b-476a-e544-0038a9659836"
      },
      "execution_count": 235,
      "outputs": [
        {
          "output_type": "display_data",
          "data": {
            "text/plain": [
              "<Figure size 648x324 with 1 Axes>"
            ],
            "image/png": "[encoded data removed]"
          },
          "metadata": {
            "needs_background": "light"
          }
        }
      ]
    },
    {
      "cell_type": "code",
      "source": [
        "April_SWE_lanina=laninayrs['LovelandPass_April1SWE_inches']\n",
        "\n",
        "\n",
        "## define bins\n",
        "delta=0.5                            ## bin size\n",
        "minbin=0                       ## minimum bin value\n",
        "maxbin=30                    ## maximum bin value\n",
        "hist_bins = np.arange(minbin,maxbin,delta) ## bins\n",
        "## plot histogram\n",
        "fig = plt.figure(figsize=(9,4.5));\n",
        "plt.hist(April_SWE_lanina,bins=hist_bins,facecolor='k',edgecolor=\"k\");\n",
        "plt.title('April SWE La Nina years');"
      ],
      "metadata": {
        "colab": {
          "base_uri": "https://localhost:8080/",
          "height": 309
        },
        "id": "ta3SEWEwODMi",
        "outputId": "a3221f88-e0cc-46b8-abc1-1ac32df219c2"
      },
      "execution_count": 236,
      "outputs": [
        {
          "output_type": "display_data",
          "data": {
            "text/plain": [
              "<Figure size 648x324 with 1 Axes>"
            ],
            "image/png": "[encoded data removed]"
          },
          "metadata": {
            "needs_background": "light"
          }
        }
      ]
    },
    {
      "cell_type": "markdown",
      "source": [
        "###**Summary**: Write your text here. Discuss what you found including how it relates to your hypothesis and underlying motivation."
      ],
      "metadata": {
        "id": "F2KAwWkId3JE"
      }
    },
    {
      "cell_type": "markdown",
      "source": [
        "From my project using a definition of a change in at least 1 degree celsius from the mean I was not able to find any statistical difference in snowmelt levels between El Nino years and La Nina years. This means that using ENSO events to predict snowpack levels would not work. However changing my defintion to a change in just 0.5 degrees celsius there was a statistical difference in the means showing that one could use ENSO events to determine snowpack levels. |"
      ],
      "metadata": {
        "id": "biDxBhQd5IDR"
      }
    },
    {
      "cell_type": "code",
      "source": [
        ""
      ],
      "metadata": {
        "id": "JgpOt7I7PYC6"
      },
      "execution_count": null,
      "outputs": []
    }
  ]
}